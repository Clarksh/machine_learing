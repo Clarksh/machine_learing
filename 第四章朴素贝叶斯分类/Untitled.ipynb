{
 "cells": [
  {
   "cell_type": "markdown",
   "metadata": {},
   "source": [
    "使用朴素贝叶斯过滤垃圾邮件"
   ]
  },
  {
   "cell_type": "code",
   "execution_count": 1,
   "metadata": {
    "collapsed": true
   },
   "outputs": [],
   "source": [
    "import numpy as np\n",
    "import matplotlib.pyplot as plt\n",
    "from math import log\n",
    "%matplotlib inline"
   ]
  },
  {
   "cell_type": "markdown",
   "metadata": {},
   "source": [
    "使用python来文本分类"
   ]
  },
  {
   "cell_type": "markdown",
   "metadata": {},
   "source": [
    "1.准备数据：从文中构建词向量"
   ]
  },
  {
   "cell_type": "code",
   "execution_count": 2,
   "metadata": {
    "collapsed": true
   },
   "outputs": [],
   "source": [
    "def loadDataSet():#来生成数据：文本列表和标签分类\n",
    "    #文本集：每个[]是一个文本，里面是分割开的单词\n",
    "    postingList=[['my', 'dog', 'has', 'flea', 'problems', 'help', 'please'],\n",
    "                 ['maybe', 'not', 'take', 'him', 'to', 'dog', 'park', 'stupid'],\n",
    "                 ['my', 'dalmation', 'is', 'so', 'cute', 'I', 'love', 'him'],\n",
    "                 ['stop', 'posting', 'stupid', 'worthless', 'garbage'],\n",
    "                 ['mr', 'licks', 'ate', 'my', 'steak', 'how', 'to', 'stop', 'him'],\n",
    "                 ['quit', 'buying', 'worthless', 'dog', 'food', 'stupid']]\n",
    "    #0-非侮辱性，1-侮辱性\n",
    "    classVec = [0,1,0,1,0,1]    \n",
    "    return postingList,classVec\n",
    "\n",
    "def createVocabList(dataset):#获取词汇表：把文本集装换成一个不含重复词的列表\n",
    "    vocabSet = set([])#创建一个空集,可以进行集合操作\n",
    "    for document in dataset:\n",
    "        vocabSet = vocabSet |set(document)#每次把文件中的不重复元素放入\n",
    "    return list(vocabSet)\n",
    "\n",
    "def setOfWords2Vec(vocabList, inputSet):#转化成向量:参数是词汇表和某个文档\n",
    "    returnVec = [0]*len(vocabList)#构建vocabList长度的0向量\n",
    "    for word in inputSet:  #把该文档中在词汇表中有该单词的位置标位1（one-hot向量）\n",
    "        if word in vocabList:\n",
    "            returnVec[vocabList.index(word)]=1 \n",
    "        else:\n",
    "             print(\"the word: %s is not in my Vocabulary!\" % word)\n",
    "    return returnVec"
   ]
  },
  {
   "cell_type": "markdown",
   "metadata": {},
   "source": [
    "2.训练算法：从词向量计算概率"
   ]
  },
  {
   "cell_type": "code",
   "execution_count": 3,
   "metadata": {
    "collapsed": true
   },
   "outputs": [],
   "source": [
    "import numpy as np\n",
    "\"\"\"\n",
    "函数说明:朴素贝叶斯分类器训练函数\n",
    "\n",
    "Parameters:\n",
    "    trainMatrix - 文档矩阵\n",
    "    trainCategory - 每篇文档类别标签所构成的向量\n",
    "Returns:\n",
    "    p0Vect - 非侮辱类的条件概率数组\n",
    "    p1Vect - 侮辱类的条件概率数组\n",
    "    pAbusive - 文档属于侮辱类的概率\n",
    "\"\"\"\n",
    "def trainNB0(trainMatrix, trainGategory):\n",
    "    numTrainDocs = len(trainMatrix)   #返回训练的文档数目\n",
    "    numWords = len(trainMatrix[0])   #返回每一篇文档的词条数\n",
    "    pAbusive = sum(trainGategory)/float(numTrainDocs)  #文档属于侮辱类的概率\n",
    "    #用拉普拉斯修正”来平滑数据\n",
    "    p0Num = np.ones(numWords); p1Num = np.ones(numWords)  #创建numpy.zeros数组,词条出现数初始化为0\n",
    "    p0Denom = 2.0; p1Denom = 2.0   #分母初始化为2\n",
    "    for i in range(numTrainDocs):\n",
    "        if trainGategory[i] == 1:  #统计属于侮辱类的条件概率所需的数据，即P(w0|1),P(w1|1),P(w2|1)···\n",
    "            p1Num += trainMatrix[i]\n",
    "            p1Denom += sum(trainMatrix[i])\n",
    "        else:  #统计属于非侮辱类的条件概率所需的数据，即P(w0|0),P(w1|0),P(w2|0)···\n",
    "            p0Num += trainMatrix[i]\n",
    "            p0Denom += sum(trainMatrix[i])\n",
    "    p1Vect = np.log(p1Num/p1Denom)#log防止下溢出\n",
    "    p0Vect = np.log(p0Num/p0Denom)\n",
    "    return p0Vect,p1Vect,pAbusive  #返回属于非侮辱类的条件概率数组，属于侮辱类的条件概率数组，文档属于侮辱类的概率"
   ]
  },
  {
   "cell_type": "markdown",
   "metadata": {},
   "source": [
    "3.测试算法：根据现实情况修改分类器"
   ]
  },
  {
   "cell_type": "code",
   "execution_count": 4,
   "metadata": {
    "collapsed": true
   },
   "outputs": [],
   "source": [
    "\"\"\"\n",
    "函数说明:朴素贝叶斯分类函数\n",
    "\n",
    "Parameters:\n",
    "    vec2Classify - 待分类的词条数组\n",
    "    p0Vec - 非侮辱类的条件概率数组\n",
    "    p1Vec - 侮辱类的条件概率数组\n",
    "    pClass1 - 文档属于侮辱类的概率\n",
    "Returns:\n",
    "    类别标签 -   1或0\n",
    "\"\"\"\n",
    "def classifyNB(vec2Classify, p0Vec, p1Vec, pClass1):\n",
    "    p1 = sum(vec2Classify*p1Vec)+np.log(pClass1)# #对应元素相乘。logA * B = logA + logB，所以这里加上log(pClass1)\n",
    "    p0 = sum(vec2Classify*p0Vec)+np.log(1.0-pClass1)\n",
    "    if p1 > p0:\n",
    "        return 1\n",
    "    else:\n",
    "        return 0\n",
    "\n",
    "def testingNB():\n",
    "    listOPosts,listClasses = loadDataSet()\n",
    "    myVocabList = createVocabList(listOPosts)\n",
    "    trainMat = []\n",
    "    for postinDoc in listOPosts:\n",
    "        trainMat.append(setOfWords2Vec(myVocabList, postinDoc))\n",
    "    p0V,p1V,pAb = trainNB0(np.array(trainMat),np.array(listClasses))\n",
    "    testEntry = ['love','my','dalmation']\n",
    "    thisDoc = np.array(setOfWords2Vec(myVocabList,testEntry))\n",
    "    print(testEntry,'classified as:',classifyNB(thisDoc,p0V,p1V,pAb))\n",
    "    testEntry = ['stupid','garbage']\n",
    "    thisDoc = np.array(setOfWords2Vec(myVocabList,testEntry))\n",
    "    print(testEntry,'classified as:',classifyNB(thisDoc,p0V,p1V,pAb))"
   ]
  },
  {
   "cell_type": "markdown",
   "metadata": {},
   "source": [
    "4.准备数据：文档词袋模型:和setOfWords2Vec区别是每个单词可以重复多次"
   ]
  },
  {
   "cell_type": "code",
   "execution_count": 5,
   "metadata": {
    "collapsed": true
   },
   "outputs": [],
   "source": [
    "#词袋模型\n",
    "def bagOfWords2VecMN(vocabList, inputSet):\n",
    "    returnVec = [0]*len(vocabList)\n",
    "    for word in inputSet:\n",
    "        if word in vocabList:\n",
    "            returnVec[vocabList.index(word)] += 1\n",
    "    return returnVec"
   ]
  },
  {
   "cell_type": "markdown",
   "metadata": {},
   "source": [
    "示例：使用朴素贝叶斯过滤垃圾邮件"
   ]
  },
  {
   "cell_type": "code",
   "execution_count": 6,
   "metadata": {
    "collapsed": true
   },
   "outputs": [],
   "source": [
    "def textParse(bigString):\n",
    "    \"\"\"\n",
    "    输入很长的字符串，转换为向量\n",
    "    参数：\n",
    "        bigString -- 长字符串\n",
    "    返回：\n",
    "        去掉少于两个字符，转换为小写的字符串\n",
    "    \"\"\"\n",
    "    import re\n",
    "    listOfTokens = re.split(r'\\W*', bigString)#正则表达式来去掉空格和标点符号\n",
    "    return [tok.lower() for tok in listOfTokens if len(tok) > 2] #全变成小写，去掉少于两个字符的字符串\n",
    "\n",
    "def spamTest():\n",
    "    #新建三个列表\n",
    "    docList=[]; classList = []; fullText =[]\n",
    "    #遍历垃圾邮件和正常邮件，各25个\n",
    "    for i in range(1,26):\n",
    "        #读取垃圾邮件\n",
    "        wordList = textParse(open(\"email/spam/{}.txt\".format(i), errors = 'ignore').read())\n",
    "        #添加到列表\n",
    "        docList.append(wordList)\n",
    "        fullText.extend(wordList)\n",
    "        #添加到类\n",
    "        classList.append(1)\n",
    "        #读取正常邮件\n",
    "        #ham中的23.txt总是报错有不能解读的字节，选择忽略该错误\n",
    "        wordList = textParse(open(\"email/ham/{}.txt\".format(i), errors = 'ignore').read())\n",
    "        docList.append(wordList)\n",
    "        fullText.extend(wordList)\n",
    "        classList.append(0)\n",
    "    #创建词汇表\n",
    "    vocabList = createVocabList(docList)\n",
    "    #训练集和测试集序号集\n",
    "    trainingSet = list(range(50)); testSet=[]\n",
    "    #随机抽取训练集中的10个序号，放入测试集\n",
    "    for i in range(10):\n",
    "        #生成随机序号\n",
    "        randIndex = np.int(np.random.uniform(0,len(trainingSet)))\n",
    "        #序号对应的元素由训练集移动到测试集中\n",
    "        testSet.append(trainingSet[randIndex])\n",
    "        del(trainingSet[randIndex]) \n",
    "    #新建训练矩阵和训练标签\n",
    "    trainMat=[]; trainClasses = []\n",
    "    #对于训练集中的元素\n",
    "    for docIndex in trainingSet:\n",
    "        #对应词袋添加到训练矩阵中\n",
    "        trainMat.append(bagOfWords2VecMN(vocabList, docList[docIndex]))\n",
    "        #类别添加到标签中\n",
    "        trainClasses.append(classList[docIndex])\n",
    "    #训练朴素贝叶斯分类器\n",
    "    p0V,p1V,pSpam = trainNB0(np.array(trainMat),np.array(trainClasses))\n",
    "    #错误计数器初始化为0\n",
    "    errorCount = 0\n",
    "    #对于测试集\n",
    "    for docIndex in testSet:\n",
    "        #得到词袋向量\n",
    "        wordVector = bagOfWords2VecMN(vocabList, docList[docIndex])\n",
    "        #判断结果\n",
    "        if classifyNB(np.array(wordVector),p0V,p1V,pSpam) != classList[docIndex]:\n",
    "            #统计错误\n",
    "            errorCount += 1\n",
    "            #打印错误信息\n",
    "            print(\"错误序号为：{}\".format(docList[docIndex]))\n",
    "    print(\"总准确率为：{}\".format(1 - np.float(errorCount)/len(testSet)))"
   ]
  },
  {
   "cell_type": "code",
   "execution_count": 7,
   "metadata": {
    "collapsed": false
   },
   "outputs": [
    {
     "name": "stdout",
     "output_type": "stream",
     "text": [
      "错误序号为：['home', 'based', 'business', 'opportunity', 'knocking', 'your', 'door', 'don抰', 'rude', 'and', 'let', 'this', 'chance', 'you', 'can', 'earn', 'great', 'income', 'and', 'find', 'your', 'financial', 'life', 'transformed', 'learn', 'more', 'here', 'your', 'success', 'work', 'from', 'home', 'finder', 'experts']\n",
      "总准确率为：0.9\n"
     ]
    },
    {
     "name": "stderr",
     "output_type": "stream",
     "text": [
      "D:\\Anaconda3\\lib\\re.py:203: FutureWarning: split() requires a non-empty pattern match.\n",
      "  return _compile(pattern, flags).split(string, maxsplit)\n"
     ]
    }
   ],
   "source": [
    "spamTest()"
   ]
  },
  {
   "cell_type": "code",
   "execution_count": null,
   "metadata": {
    "collapsed": true
   },
   "outputs": [],
   "source": []
  }
 ],
 "metadata": {
  "kernelspec": {
   "display_name": "Python [Anaconda3]",
   "language": "python",
   "name": "Python [Anaconda3]"
  },
  "language_info": {
   "codemirror_mode": {
    "name": "ipython",
    "version": 3
   },
   "file_extension": ".py",
   "mimetype": "text/x-python",
   "name": "python",
   "nbconvert_exporter": "python",
   "pygments_lexer": "ipython3",
   "version": "3.5.2"
  }
 },
 "nbformat": 4,
 "nbformat_minor": 0
}
