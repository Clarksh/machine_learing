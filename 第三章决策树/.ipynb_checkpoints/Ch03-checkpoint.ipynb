{
 "cells": [
  {
   "cell_type": "markdown",
   "metadata": {},
   "source": [
    "# 使用决策树预测隐形眼镜类型"
   ]
  },
  {
   "cell_type": "markdown",
   "metadata": {},
   "source": [
    "### 计算香农熵"
   ]
  },
  {
   "cell_type": "code",
   "execution_count": 1,
   "metadata": {
    "collapsed": true
   },
   "outputs": [],
   "source": [
    "from math import log\n",
    "import operator\n",
    "\n",
    "def calcShannonEnt(dataSet):  \n",
    "    numEntries = len(dataSet) # 样本数量\n",
    "    labelCounts = {}\n",
    "    for featVec in dataSet:   # 逐行读取样本\n",
    "        currentLabel = featVec[-1]  # 当前样本类别，每一行是一个列表，列表最后一项是类别标签\n",
    "        if currentLabel not in labelCounts.keys(): labelCounts[currentLabel] = 0\n",
    "        labelCounts[currentLabel] += 1  # 统计每种类别出现的次数，保存为字典\n",
    "    shannonEnt = 0.0\n",
    "    for key in labelCounts:\n",
    "        prob = float(labelCounts[key])/numEntries  # 每种类别出现的频率\n",
    "        shannonEnt -= prob * log(prob,2)           # 按香农公式计算香农熵\n",
    "    return shannonEnt"
   ]
  },
  {
   "cell_type": "markdown",
   "metadata": {},
   "source": [
    "### 划分数据集"
   ]
  },
  {
   "cell_type": "code",
   "execution_count": 2,
   "metadata": {
    "collapsed": true
   },
   "outputs": [],
   "source": [
    "def splitDataSet(dataSet, axis, value):#样本数据，要选取的特征索引（第几个特征），特征的某一取值\n",
    "    retDataSet = []                 # 初始化分割后的样本集为空\n",
    "    for featVec in dataSet:         # 逐行读取样本\n",
    "        if featVec[axis] == value:  # 奇妙：把第axis个特征等于value的除掉该特征项后输出，就是把左边和右边的合并，就等于除掉自己\n",
    "            reducedFeatVec = featVec[:axis]     # 取出特征列左侧的数据\n",
    "            reducedFeatVec.extend(featVec[axis+1:])  # 合并特征列右侧的数据\n",
    "            retDataSet.append(reducedFeatVec)\n",
    "    return retDataSet"
   ]
  },
  {
   "cell_type": "markdown",
   "metadata": {},
   "source": [
    "### 选择最好的分割特征来分割数据集：根据最大信息增益"
   ]
  },
  {
   "cell_type": "code",
   "execution_count": 3,
   "metadata": {
    "collapsed": true
   },
   "outputs": [],
   "source": [
    "def chooseBestFeatureToSplit(dataSet):\n",
    "    numFeatures = len(dataSet[0]) - 1      # 特征数量\n",
    "    baseEntropy = calcShannonEnt(dataSet)  # 基础熵为样本集本身的香农熵\n",
    "    bestInfoGain = 0.0; bestFeature = -1   # 初始化最大信息增益为0；最佳特征索引为-1\n",
    "    for i in range(numFeatures):           # 遍历所有特征\n",
    "        featList = [example[i] for example in dataSet] # 取出第i个特征列数据\n",
    "        uniqueVals = set(featList)         # 第i个特征列的取值集合（删除重复元素）\n",
    "        newEntropy = 0.0                   # 初始化当前特征香农熵为0\n",
    "        for value in uniqueVals:\n",
    "            subDataSet = splitDataSet(dataSet, i, value) # 利用当前特征的每个取值分割样本集\n",
    "            prob = len(subDataSet)/float(len(dataSet))   # 当前样本子集在全体样本集中的占比\n",
    "            newEntropy += prob * calcShannonEnt(subDataSet) # 当前样本子集的香农熵\n",
    "        infoGain = baseEntropy - newEntropy # 计算信息增益\n",
    "        if (infoGain > bestInfoGain):       # 与历史最大信息增益比较\n",
    "            bestInfoGain = infoGain         # 更新最大信息增益\n",
    "            bestFeature = i                 # 更新最佳特征索引\n",
    "    return bestFeature                      # 返回最佳特征列索引"
   ]
  },
  {
   "cell_type": "markdown",
   "metadata": {},
   "source": [
    "### 从类别列表中计算出现次数最多的类别（多数表决法）用过很多次了~~"
   ]
  },
  {
   "cell_type": "code",
   "execution_count": 1,
   "metadata": {
    "collapsed": true
   },
   "outputs": [],
   "source": [
    "import operator\n",
    "def majorityCnt(classList):\n",
    "    classCount = {}\n",
    "    for vote in classList:    #统计classList中每个元素出现的个数\n",
    "        if vote not in classCount.keys():\n",
    "            classCount[vote] = 0\n",
    "        classCount[vote] += 1\n",
    "    sortedClassCount = sorted(classCount.items(),key=operator.itemgetter(1), reverse=True)\n",
    "    print(sortedClassCount)\n",
    "    return sortedClassCount[0][0]   #返回classList中出现次数最多的元素"
   ]
  },
  {
   "cell_type": "markdown",
   "metadata": {},
   "source": [
    "### 构建决策树"
   ]
  },
  {
   "cell_type": "code",
   "execution_count": 5,
   "metadata": {
    "collapsed": true
   },
   "outputs": [],
   "source": [
    "def createTree(dataSet,labels):\n",
    "    # labels为每个特征的名称/说明\n",
    "    classList = [example[-1] for example in dataSet]    # 取出类别列\n",
    "    if classList.count(classList[0]) == len(classList): # 只有1个类别时停止分割，返回当前类别\n",
    "        return classList[0]  \n",
    "    if len(dataSet[0]) == 1: # 当没有更多特征时停止分割，返回实例中数量最多的类\n",
    "        return majorityCnt(classList)\n",
    "    \n",
    "    bestFeat = chooseBestFeatureToSplit(dataSet)  # 最佳特征对应的列号\n",
    "    bestFeatLabel = labels[bestFeat]              # 最佳特征名称/说明\n",
    "    myTree = {bestFeatLabel:{}}  # 嵌套创建树\n",
    "    del(labels[bestFeat])        # 从特征名中删除掉已经选为最佳特征的\n",
    "    featValues = [example[bestFeat] for example in dataSet]   # 最佳特征数据列\n",
    "    uniqueVals = set(featValues) # 最佳特征列的取值集合\n",
    "    for value in uniqueVals:\n",
    "        subLabels = labels[:]    # 拷贝特征名，避免搞乱原有值\n",
    "        myTree[bestFeatLabel][value] = createTree(splitDataSet(dataSet, bestFeat, value),subLabels)#递归创建树\n",
    "    return myTree"
   ]
  },
  {
   "cell_type": "markdown",
   "metadata": {},
   "source": [
    "### 获取叶节点的数目和树的层数"
   ]
  },
  {
   "cell_type": "code",
   "execution_count": 6,
   "metadata": {
    "collapsed": true
   },
   "outputs": [],
   "source": [
    "def getNumLeafs(myTree):\n",
    "    numLeafs = 0\n",
    "    #firstStr = myTree.keys()[0]\n",
    "    #python3中myTree.keys()返回的是dict_keys,不再是list,所以不能使用myTree.keys()[0]的方法获取结点属性，可以使用list(myTree.keys())[0]\n",
    "    firstStr = next(iter(myTree))                                \n",
    "    secondDict = myTree[firstStr]\n",
    "    for key in secondDict.keys():\n",
    "        if type(secondDict[key]).__name__=='dict':\n",
    "            numLeafs += getNumLeafs(secondDict[key])\n",
    "        else: numLeafs += 1\n",
    "    return numLeafs\n",
    "\n",
    "def getTreeDepth(myTree):\n",
    "    maxDepth = 0\n",
    "    firstStr = next(iter(myTree))   \n",
    "    secondDict = myTree[firstStr]\n",
    "    for key in secondDict.keys():\n",
    "        if type(secondDict[key]).__name__=='dict':\n",
    "            thisDepth = 1+getTreeDepth(secondDict[key])\n",
    "        else: thisDepth = 1\n",
    "        if thisDepth > maxDepth: maxDepth = thisDepth\n",
    "    return maxDepth"
   ]
  },
  {
   "cell_type": "markdown",
   "metadata": {},
   "source": [
    "### 使用文本注解绘制树节点"
   ]
  },
  {
   "cell_type": "code",
   "execution_count": 7,
   "metadata": {
    "collapsed": true
   },
   "outputs": [],
   "source": [
    "import matplotlib.pyplot as plt\n",
    "\n",
    "decisionNode = dict(boxstyle=\"sawtooth\", fc='0.8')  #设置节点格式\n",
    "leafNode = dict(boxstyle=\"round4\", fc='0.8')   #设置叶节点格式\n",
    "arrow_args = dict(arrowstyle=\"<-\")   #定义箭头格式\n",
    "\n",
    "def plotNode(nodeTxt, centerPt, parentPt, nodeType):\n",
    "    createPlot.ax1.annotate(nodeTxt, xy=parentPt,xycoords='axes fraction',\n",
    "                            xytext=centerPt, textcoords='axes fraction',va='center',\n",
    "                            ha='center',bbox=nodeType,arrowprops=arrow_args)   #绘制节点\n",
    "\n",
    "def plotMidText(cntrPt, parentPt, txtString):    #计算标注位置\n",
    "    xMid = (parentPt[0]-cntrPt[0])/2.0 + cntrPt[0]\n",
    "    yMid = (parentPt[1]-cntrPt[1])/2.0 + cntrPt[1]\n",
    "    createPlot.ax1.text(xMid,yMid, txtString)\n",
    "\n",
    "def plotTree(myTree, parentPt, nodeTxt):\n",
    "    numLeafs = getNumLeafs(myTree)   #获取决策树叶结点数目，决定了树的宽度\n",
    "    depth = getTreeDepth(myTree)  #获取决策树层数\n",
    "    firstStr = next(iter(myTree)) \n",
    "    cntrPt = (plotTree.xOff +(1.0 + float(numLeafs))/2.0/plotTree.totalW,plotTree.yOff) #中心位置\n",
    "    plotMidText(cntrPt, parentPt, nodeTxt) #标注有向边属性值\n",
    "    plotNode(firstStr, cntrPt, parentPt, decisionNode) #绘制结点\n",
    "    secondDict = myTree[firstStr]  #下一个字典，也就是继续绘制子结点\n",
    "    plotTree.yOff = plotTree.yOff - 1.0/plotTree.totalD #y偏移\n",
    "    for key in secondDict.keys():\n",
    "        if type(secondDict[key]).__name__=='dict':  #测试该结点是否为字典，如果不是字典，代表此结点为叶子结点\n",
    "            plotTree(secondDict[key],cntrPt,str(key))  #不是叶结点，递归调用继续绘制\n",
    "        else:  #如果是叶结点，绘制叶结点，并标注有向边属性值 \n",
    "            plotTree.xOff = plotTree.xOff + 1.0/plotTree.totalW\n",
    "            plotNode(secondDict[key],(plotTree.xOff,plotTree.yOff),cntrPt, leafNode)\n",
    "            plotMidText((plotTree.xOff,plotTree.yOff),cntrPt, str(key))\n",
    "    plotTree.yOff = plotTree.yOff + 1.0/plotTree.totalD\n",
    "    \n",
    "def createPlot(inTree):\n",
    "    fig = plt.figure(1,facecolor='white')  #创建fig\n",
    "    fig.clf()  #清空fig\n",
    "    axprops = dict(xticks=[], yticks=[])\n",
    "    createPlot.ax1 = plt.subplot(111, frameon=False, **axprops)  #去掉x、y轴\n",
    "    plotTree.totalW = float(getNumLeafs(inTree))  #获取决策树叶结点数目\n",
    "    plotTree.totalD = float(getTreeDepth(inTree))  #获取决策树层数\n",
    "    plotTree.xOff = -0.5/plotTree.totalW; plotTree.yOff = 1.0  #x偏移\n",
    "    plotTree(inTree,(0.5,1.0),'')    #绘制决策树\n",
    "    plt.show() #显示绘制结果"
   ]
  },
  {
   "cell_type": "markdown",
   "metadata": {},
   "source": [
    "### 使用决策树的分类函数"
   ]
  },
  {
   "cell_type": "code",
   "execution_count": 8,
   "metadata": {
    "collapsed": true
   },
   "outputs": [],
   "source": [
    "def classify(inputTree, featLabels, testVec):\n",
    "    firstStr = inputTree.keys()[0]\n",
    "    secondDict = inputTree[firstStr]\n",
    "    featIndex = featLabels.index(firstStr)\n",
    "    for key in secondDict.keys():\n",
    "        if testVec[featIndex] == key:\n",
    "            if type(secondDict[key]).__name__=='dict':##判断secondDict[key]是不是字典\n",
    "                classLabel = classify(secondDict[key],featLabels,testVec)\n",
    "            else:   classLabel = secondDict[key]\n",
    "    return classLabel"
   ]
  },
  {
   "cell_type": "markdown",
   "metadata": {},
   "source": [
    "### 使用pickle模块存储决策树"
   ]
  },
  {
   "cell_type": "code",
   "execution_count": 9,
   "metadata": {
    "collapsed": true
   },
   "outputs": [],
   "source": [
    "def storeTree(inputTree, filename):\n",
    "    import pickle\n",
    "    fw = open(filename,'w')\n",
    "    pickle.dump(inputTree,fw)\n",
    "    fw.close()\n",
    "\n",
    "def grabTree(filename):\n",
    "    import pickle\n",
    "    fr = open(filename)\n",
    "    return pickle.load(fr)"
   ]
  },
  {
   "cell_type": "markdown",
   "metadata": {},
   "source": [
    "## 实例：处理隐形眼镜问题"
   ]
  },
  {
   "cell_type": "code",
   "execution_count": 11,
   "metadata": {
    "collapsed": false
   },
   "outputs": [
    {
     "name": "stdout",
     "output_type": "stream",
     "text": [
      "{'tearRate': {'normal': {'astigmatic': {'no': {'age': {'presbyopic': {'prescript': {'hyper': 'soft', 'myope': 'no lenses'}}, 'pre': 'soft', 'young': 'soft'}}, 'yes': {'prescript': {'hyper': {'age': {'presbyopic': 'no lenses', 'pre': 'no lenses', 'young': 'hard'}}, 'myope': 'hard'}}}}, 'reduced': 'no lenses'}}\n"
     ]
    },
    {
     "data": {
      "image/png": "[encoded data removed]",
      "text/plain": [
       "<matplotlib.figure.Figure at 0x2d106485048>"
      ]
     },
     "metadata": {},
     "output_type": "display_data"
    }
   ],
   "source": [
    "%matplotlib inline\n",
    "fr=open('lenses.txt')\n",
    "lenses = [inst.strip().split('\\t') for inst in fr.readlines()]\n",
    "lensesLabels = ['age','prescript','astigmatic','tearRate']\n",
    "lensesTree = createTree(lenses,lensesLabels)\n",
    "print(lensesTree)\n",
    "createPlot(lensesTree)"
   ]
  },
  {
   "cell_type": "code",
   "execution_count": 21,
   "metadata": {
    "collapsed": false
   },
   "outputs": [
    {
     "name": "stdout",
     "output_type": "stream",
     "text": [
      "dfafasdf\n",
      "dfafasdf\n"
     ]
    }
   ],
   "source": [
    "a=1\n",
    "for i in range(2):\n",
    "    a=a+1\n",
    "    print(\"dfafasdf\")"
   ]
  },
  {
   "cell_type": "code",
   "execution_count": null,
   "metadata": {
    "collapsed": true
   },
   "outputs": [],
   "source": []
  }
 ],
 "metadata": {
  "anaconda-cloud": {},
  "kernelspec": {
   "display_name": "Python [Anaconda3]",
   "language": "python",
   "name": "Python [Anaconda3]"
  },
  "language_info": {
   "codemirror_mode": {
    "name": "ipython",
    "version": 3
   },
   "file_extension": ".py",
   "mimetype": "text/x-python",
   "name": "python",
   "nbconvert_exporter": "python",
   "pygments_lexer": "ipython3",
   "version": "3.5.2"
  }
 },
 "nbformat": 4,
 "nbformat_minor": 0
}
