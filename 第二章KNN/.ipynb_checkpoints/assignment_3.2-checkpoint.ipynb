{
 "cells": [
  {
   "cell_type": "markdown",
   "metadata": {},
   "source": [
    "# 使用 k 近邻算法改进网站的配对效果"
   ]
  },
  {
   "cell_type": "markdown",
   "metadata": {},
   "source": [
    "题目：一个女生把交友网站里面的异性分为三类人：不喜欢，魅力一般，极具魅力。她收集了一个数据集（datingTestSet2.txt）,每个样本是一行，包括了1.每年获得飞行里程；2.玩游戏时间百分比；3.每周消耗冰淇淋公斤数；4.类别。用这些数据来进行训练模型来分类。"
   ]
  },
  {
   "cell_type": "code",
   "execution_count": 1,
   "metadata": {
    "collapsed": true
   },
   "outputs": [],
   "source": [
    "#先导包，后面再加也行\n",
    "import numpy as np\n",
    "import operator"
   ]
  },
  {
   "cell_type": "markdown",
   "metadata": {},
   "source": [
    "# 数据预处理\n",
    "\n",
    "该函数来把数据集处理成分类器能用的格式：\n",
    "每一行是这样的，\n",
    "40920\t8.326976\t0.953952\t3"
   ]
  },
  {
   "cell_type": "code",
   "execution_count": 2,
   "metadata": {
    "collapsed": true
   },
   "outputs": [],
   "source": [
    "def file2matrix(filename):#把数据处理成分类器能用的格式\n",
    "    love_dictionary = {'largeDoses':3, 'smallDoses':2, 'didntLike':1}    # 三个类别\n",
    "    fr = open(filename)    # 打开文件\n",
    "    arrayOLines = fr.readlines()    # 逐行打开\n",
    "    numberOfLines = len(arrayOLines)            #得到文件的行数\n",
    "    returnMat = np.zeros((numberOfLines, 3))        #初始化特征矩阵numberOfLines行3列\n",
    "    classLabelVector = []                       #初始化输出标签向量\n",
    "    index = 0\n",
    "    for line in arrayOLines:\n",
    "        line = line.strip()    # 删去字符串首部尾部空字符\n",
    "        listFromLine = line.split('\\t')    # 按'\\t'（制表符(\\t)）对字符串进行分割，listFromLine 是列表\n",
    "        returnMat[index, :] = listFromLine[0:3] # listFromLine的0,1,2元素是特征，赋值给returnMat的当前行（index）的所有列（：）;[0:3]不取3\n",
    "        #书中这个代码我觉得是怕数据集出错，直接写入类别的字符串（实际查看并没有发现错误）\n",
    "        if(listFromLine[-1].isdigit()):    # 如果listFromLine最后一个元素是数字\n",
    "            classLabelVector.append(int(listFromLine[-1]))    # 直接赋值给classLabelVector\n",
    "        else:    # 如果listFromLine最后一个元素是字符串\n",
    "            classLabelVector.append(love_dictionary.get(listFromLine[-1]))    # 根据字典love_dictionary转化为数字\n",
    "        index += 1\n",
    "    return returnMat, classLabelVector    # 返回的类别标签classLabelVector是1,2,3"
   ]
  },
  {
   "cell_type": "markdown",
   "metadata": {},
   "source": [
    "# 定义特征归一化函数\n",
    "作用：\n",
    "处理这种不同取值范围的特征值时，如果这三个特征的权重相同，\n",
    "数值归一化能够将不同特征的取值范围限定在同一区间例如[0,1]之间，让不同特征对距离的计算影响\n",
    "相同\n",
    "方法：newValue=(oldValue-min)/(max-min),把具体的数值转化成占总取值范围的几分之几"
   ]
  },
  {
   "cell_type": "code",
   "execution_count": 3,
   "metadata": {
    "collapsed": true
   },
   "outputs": [],
   "source": [
    "def autoNorm(dataSet):\n",
    "    minVals = dataSet.min(0)#对dataset这个矩阵返回每一列（0表示列，1表示行）的最小值，所以返回的是一个一维列表\n",
    "    maxVals = dataSet.max(0)\n",
    "    ranges = maxVals - minVals#三个特征（三列）的取值范围（一维数组）\n",
    "    normDataSet = np.zeros(np.shape(dataSet))#定义一个和dataSet一样的矩阵normDataSe\n",
    "    m = dataSet.shape[0]#shape的第一维长度：行的长度\n",
    "    normDataSet = dataSet - np.tile(minVals, (m, 1))#把数组minVals沿(m,1)方向复制\n",
    "    normDataSet = normDataSet/np.tile(ranges, (m, 1))  \n",
    "    return normDataSet, ranges, minVals"
   ]
  },
  {
   "cell_type": "markdown",
   "metadata": {
    "collapsed": true
   },
   "source": [
    "# 定义 k 近邻算法"
   ]
  },
  {
   "cell_type": "code",
   "execution_count": 4,
   "metadata": {
    "collapsed": true
   },
   "outputs": [],
   "source": [
    "def classify0(inX, dataSet, labels, k):    # inX是输入要测试的向量，dataSet是训练集，lebels是训练样本标签，k是取的最近邻个数\n",
    "    dataSetSize = dataSet.shape[0]    # 数组行数就是训练样本个数\n",
    "    diffMat = np.tile(inX, (dataSetSize, 1)) - dataSet#样本的每个特征都要和训练集的每个特征进行相减\n",
    "    sqDiffMat = diffMat**2#数组里面每个数都进行平方（不是矩阵相乘）\n",
    "    sqDistances = sqDiffMat.sum(axis=1)#axis=1表示按行相加\n",
    "    distances = sqDistances**0.5    # distance是inX与dataSet的欧氏距离\n",
    "    sortedDistIndicies = distances.argsort()    # 返回排序从小到大的索引位置\n",
    "    classCount = {}   # 字典存储k近邻不同label出现的次数，因为是类似key-value所以用{}如{1:1,2:3}\n",
    "    for i in range(k):#range表示1到k之间的数字\n",
    "        voteIlabel = labels[sortedDistIndicies[i]]\n",
    "        classCount[voteIlabel] = classCount.get(voteIlabel, 0) + 1  # 关键语句！：对应label加1，classCount中若无此key，则默认为0\n",
    "    sortedClassCount = sorted(classCount.items(), key=operator.itemgetter(1), reverse=True)    # items()把字典变为可以遍历的形式，operator.itemgetter 获取字典的键值对中的值\n",
    "    return sortedClassCount[0][0]    # 字典已经通过sorted变为可遍历对象（二维数组）返回k近邻中所属类别最多的那一类（第一行第一列）"
   ]
  },
  {
   "cell_type": "markdown",
   "metadata": {},
   "source": [
    "# 测试算法：作为完整程序验证分类器"
   ]
  },
  {
   "cell_type": "code",
   "execution_count": 5,
   "metadata": {
    "collapsed": true
   },
   "outputs": [],
   "source": [
    "def datingClassTest():\n",
    "    hoRatio = 0.10      #整个数据集的10%用来测试\n",
    "    datingDataMat, datingLabels = file2matrix('datingTestSet.txt')       #导入数据集\n",
    "    normMat, ranges, minVals = autoNorm(datingDataMat)    # 所有特征归一化\n",
    "    m = normMat.shape[0]    # 样本个数\n",
    "    numTestVecs = int(m*hoRatio)    # 测试样本个数\n",
    "    errorCount = 0.0\n",
    "    for i in range(numTestVecs):\n",
    "        # 第一个是输入要测试的向量（遍历所有测试样本：0到numTestVecs），\n",
    "        #训练集：numTestVecs到m，lebels是训练样本标签，取的最近邻个数3\n",
    "        classifierResult = classify0(normMat[i, :], normMat[numTestVecs:m, :], datingLabels[numTestVecs:m], 3)\n",
    "        print(\"the classifier came back with: %d, the real answer is: %d\" % (classifierResult, datingLabels[i]))\n",
    "        if (classifierResult != datingLabels[i]): errorCount += 1.0\n",
    "    print(\"the total error rate is: %f\" % (errorCount / float(numTestVecs)))    # 打印错误率\n",
    "    print(errorCount)    # 打印错误个数"
   ]
  },
  {
   "cell_type": "markdown",
   "metadata": {},
   "source": [
    "# 运行程序"
   ]
  },
  {
   "cell_type": "code",
   "execution_count": 6,
   "metadata": {
    "collapsed": false
   },
   "outputs": [
    {
     "name": "stdout",
     "output_type": "stream",
     "text": [
      "the classifier came back with: 3, the real answer is: 3\n",
      "the classifier came back with: 2, the real answer is: 2\n",
      "the classifier came back with: 1, the real answer is: 1\n",
      "the classifier came back with: 1, the real answer is: 1\n",
      "the classifier came back with: 1, the real answer is: 1\n",
      "the classifier came back with: 1, the real answer is: 1\n",
      "the classifier came back with: 3, the real answer is: 3\n",
      "the classifier came back with: 3, the real answer is: 3\n",
      "the classifier came back with: 1, the real answer is: 1\n",
      "the classifier came back with: 3, the real answer is: 3\n",
      "the classifier came back with: 1, the real answer is: 1\n",
      "the classifier came back with: 1, the real answer is: 1\n",
      "the classifier came back with: 2, the real answer is: 2\n",
      "the classifier came back with: 1, the real answer is: 1\n",
      "the classifier came back with: 1, the real answer is: 1\n",
      "the classifier came back with: 1, the real answer is: 1\n",
      "the classifier came back with: 1, the real answer is: 1\n",
      "the classifier came back with: 1, the real answer is: 1\n",
      "the classifier came back with: 2, the real answer is: 2\n",
      "the classifier came back with: 3, the real answer is: 3\n",
      "the classifier came back with: 2, the real answer is: 2\n",
      "the classifier came back with: 1, the real answer is: 1\n",
      "the classifier came back with: 1, the real answer is: 2\n",
      "the classifier came back with: 3, the real answer is: 3\n",
      "the classifier came back with: 2, the real answer is: 2\n",
      "the classifier came back with: 3, the real answer is: 3\n",
      "the classifier came back with: 2, the real answer is: 2\n",
      "the classifier came back with: 3, the real answer is: 3\n",
      "the classifier came back with: 2, the real answer is: 2\n",
      "the classifier came back with: 1, the real answer is: 1\n",
      "the classifier came back with: 3, the real answer is: 3\n",
      "the classifier came back with: 1, the real answer is: 1\n",
      "the classifier came back with: 3, the real answer is: 3\n",
      "the classifier came back with: 1, the real answer is: 1\n",
      "the classifier came back with: 2, the real answer is: 2\n",
      "the classifier came back with: 1, the real answer is: 1\n",
      "the classifier came back with: 1, the real answer is: 1\n",
      "the classifier came back with: 2, the real answer is: 2\n",
      "the classifier came back with: 3, the real answer is: 3\n",
      "the classifier came back with: 3, the real answer is: 3\n",
      "the classifier came back with: 1, the real answer is: 1\n",
      "the classifier came back with: 2, the real answer is: 2\n",
      "the classifier came back with: 3, the real answer is: 3\n",
      "the classifier came back with: 3, the real answer is: 3\n",
      "the classifier came back with: 3, the real answer is: 3\n",
      "the classifier came back with: 1, the real answer is: 1\n",
      "the classifier came back with: 1, the real answer is: 1\n",
      "the classifier came back with: 1, the real answer is: 1\n",
      "the classifier came back with: 1, the real answer is: 1\n",
      "the classifier came back with: 2, the real answer is: 2\n",
      "the classifier came back with: 2, the real answer is: 2\n",
      "the classifier came back with: 1, the real answer is: 1\n",
      "the classifier came back with: 3, the real answer is: 3\n",
      "the classifier came back with: 2, the real answer is: 2\n",
      "the classifier came back with: 2, the real answer is: 2\n",
      "the classifier came back with: 2, the real answer is: 2\n",
      "the classifier came back with: 2, the real answer is: 2\n",
      "the classifier came back with: 3, the real answer is: 3\n",
      "the classifier came back with: 1, the real answer is: 1\n",
      "the classifier came back with: 2, the real answer is: 2\n",
      "the classifier came back with: 1, the real answer is: 1\n",
      "the classifier came back with: 2, the real answer is: 2\n",
      "the classifier came back with: 2, the real answer is: 2\n",
      "the classifier came back with: 2, the real answer is: 2\n",
      "the classifier came back with: 2, the real answer is: 2\n",
      "the classifier came back with: 2, the real answer is: 2\n",
      "the classifier came back with: 3, the real answer is: 3\n",
      "the classifier came back with: 2, the real answer is: 2\n",
      "the classifier came back with: 3, the real answer is: 3\n",
      "the classifier came back with: 1, the real answer is: 1\n",
      "the classifier came back with: 2, the real answer is: 2\n",
      "the classifier came back with: 3, the real answer is: 3\n",
      "the classifier came back with: 2, the real answer is: 2\n",
      "the classifier came back with: 2, the real answer is: 2\n",
      "the classifier came back with: 3, the real answer is: 1\n",
      "the classifier came back with: 3, the real answer is: 3\n",
      "the classifier came back with: 1, the real answer is: 1\n",
      "the classifier came back with: 1, the real answer is: 1\n",
      "the classifier came back with: 3, the real answer is: 3\n",
      "the classifier came back with: 3, the real answer is: 3\n",
      "the classifier came back with: 1, the real answer is: 1\n",
      "the classifier came back with: 2, the real answer is: 2\n",
      "the classifier came back with: 3, the real answer is: 3\n",
      "the classifier came back with: 3, the real answer is: 1\n",
      "the classifier came back with: 3, the real answer is: 3\n",
      "the classifier came back with: 1, the real answer is: 1\n",
      "the classifier came back with: 2, the real answer is: 2\n",
      "the classifier came back with: 2, the real answer is: 2\n",
      "the classifier came back with: 1, the real answer is: 1\n",
      "the classifier came back with: 1, the real answer is: 1\n",
      "the classifier came back with: 3, the real answer is: 3\n",
      "the classifier came back with: 2, the real answer is: 3\n",
      "the classifier came back with: 1, the real answer is: 1\n",
      "the classifier came back with: 2, the real answer is: 2\n",
      "the classifier came back with: 1, the real answer is: 1\n",
      "the classifier came back with: 3, the real answer is: 3\n",
      "the classifier came back with: 3, the real answer is: 3\n",
      "the classifier came back with: 2, the real answer is: 2\n",
      "the classifier came back with: 1, the real answer is: 1\n",
      "the classifier came back with: 3, the real answer is: 1\n",
      "the total error rate is: 0.050000\n",
      "5.0\n"
     ]
    }
   ],
   "source": [
    "datingClassTest()"
   ]
  },
  {
   "cell_type": "markdown",
   "metadata": {},
   "source": [
    "# 使用算法：构建完整可用系统\n",
    "\n",
    "根据用户输入，在线判断类别"
   ]
  },
  {
   "cell_type": "code",
   "execution_count": null,
   "metadata": {
    "collapsed": true
   },
   "outputs": [],
   "source": [
    "def classifyPerson():\n",
    "    resultList = ['not at all', 'in small doses', 'in large doses']\n",
    "    percentTats = float(input(\"percentage of time spent playing video games?\"))\n",
    "    ffMiles = float(input(\"frequent flier miles earned per year?\"))\n",
    "    iceCream = float(input(\"liters of ice cream consumed per year?\"))\n",
    "    datingDataMat, datingLabels = file2matrix('datingTestSet2.txt')\n",
    "    normMat, ranges, minVals = autoNorm(datingDataMat)\n",
    "    inArr = np.array([ffMiles, percentTats, iceCream, ])#最后一列是要预测的标签，放空\n",
    "    classifierResult = classify0((inArr -minVals)/ranges, normMat, datingLabels, 3)#要预测的样本必须要经过归一化处理才可以比对\n",
    "    print(\"You will probably like this person: %s\" % resultList[classifierResult - 1])"
   ]
  },
  {
   "cell_type": "code",
   "execution_count": null,
   "metadata": {
    "collapsed": false,
    "scrolled": true
   },
   "outputs": [],
   "source": [
    "classifyPerson()"
   ]
  },
  {
   "cell_type": "code",
   "execution_count": null,
   "metadata": {
    "collapsed": true
   },
   "outputs": [],
   "source": []
  }
 ],
 "metadata": {
  "anaconda-cloud": {},
  "kernelspec": {
   "display_name": "Python [Anaconda3]",
   "language": "python",
   "name": "Python [Anaconda3]"
  },
  "language_info": {
   "codemirror_mode": {
    "name": "ipython",
    "version": 3
   },
   "file_extension": ".py",
   "mimetype": "text/x-python",
   "name": "python",
   "nbconvert_exporter": "python",
   "pygments_lexer": "ipython3",
   "version": "3.5.2"
  }
 },
 "nbformat": 4,
 "nbformat_minor": 0
}
